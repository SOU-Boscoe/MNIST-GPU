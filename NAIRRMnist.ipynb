{
 "cells": [
  {
   "cell_type": "markdown",
   "id": "e03b9463-d145-4627-a73b-8549bb10d12e",
   "metadata": {},
   "source": [
    "## GPU testing using MNIST -- by and for Southern Oregon University Computer Science Students, Ashland, Oregon USA June 2025"
   ]
  },
  {
   "cell_type": "code",
   "execution_count": 7,
   "id": "783035c8-5922-4269-a829-c3d77cb8cdc7",
   "metadata": {},
   "outputs": [],
   "source": [
    "import torch\n",
    "import torch.nn as nn\n",
    "import torch.nn.functional as F\n",
    "import torch.optim as optim\n",
    "import numpy as np\n",
    "import pandas as pd\n",
    "import matplotlib.pyplot as plt\n",
    "from torchvision import datasets, transforms\n",
    "from torch.utils.data import DataLoader"
   ]
  },
  {
   "cell_type": "code",
   "execution_count": 6,
   "id": "49991efd-898d-49e4-89f2-67991e3c8237",
   "metadata": {},
   "outputs": [
    {
     "name": "stdout",
     "output_type": "stream",
     "text": [
      "Defaulting to user installation because normal site-packages is not writeable\n",
      "Requirement already satisfied: numpy in /home/jupyter-jeremy/.local/lib/python3.12/site-packages (2.2.6)\n",
      "Requirement already satisfied: pandas in /home/jupyter-jeremy/.local/lib/python3.12/site-packages (2.2.3)\n",
      "Requirement already satisfied: matplotlib in /home/jupyter-jeremy/.local/lib/python3.12/site-packages (3.10.3)\n",
      "Requirement already satisfied: python-dateutil>=2.8.2 in /opt/tljh/user/lib/python3.12/site-packages (from pandas) (2.9.0.post0)\n",
      "Requirement already satisfied: pytz>=2020.1 in /home/jupyter-jeremy/.local/lib/python3.12/site-packages (from pandas) (2025.2)\n",
      "Requirement already satisfied: tzdata>=2022.7 in /home/jupyter-jeremy/.local/lib/python3.12/site-packages (from pandas) (2025.2)\n",
      "Requirement already satisfied: contourpy>=1.0.1 in /home/jupyter-jeremy/.local/lib/python3.12/site-packages (from matplotlib) (1.3.2)\n",
      "Requirement already satisfied: cycler>=0.10 in /home/jupyter-jeremy/.local/lib/python3.12/site-packages (from matplotlib) (0.12.1)\n",
      "Requirement already satisfied: fonttools>=4.22.0 in /home/jupyter-jeremy/.local/lib/python3.12/site-packages (from matplotlib) (4.58.1)\n",
      "Requirement already satisfied: kiwisolver>=1.3.1 in /home/jupyter-jeremy/.local/lib/python3.12/site-packages (from matplotlib) (1.4.8)\n",
      "Requirement already satisfied: packaging>=20.0 in /opt/tljh/user/lib/python3.12/site-packages (from matplotlib) (24.1)\n",
      "Requirement already satisfied: pillow>=8 in /home/jupyter-jeremy/.local/lib/python3.12/site-packages (from matplotlib) (11.2.1)\n",
      "Requirement already satisfied: pyparsing>=2.3.1 in /home/jupyter-jeremy/.local/lib/python3.12/site-packages (from matplotlib) (3.2.3)\n",
      "Requirement already satisfied: six>=1.5 in /opt/tljh/user/lib/python3.12/site-packages (from python-dateutil>=2.8.2->pandas) (1.17.0)\n",
      "Defaulting to user installation because normal site-packages is not writeable\n",
      "Requirement already satisfied: torch in /home/jupyter-jeremy/.local/lib/python3.12/site-packages (2.7.0)\n",
      "Requirement already satisfied: filelock in /home/jupyter-jeremy/.local/lib/python3.12/site-packages (from torch) (3.18.0)\n",
      "Requirement already satisfied: typing-extensions>=4.10.0 in /opt/tljh/user/lib/python3.12/site-packages (from torch) (4.13.2)\n",
      "Requirement already satisfied: setuptools in /opt/tljh/user/lib/python3.12/site-packages (from torch) (74.1.2)\n",
      "Requirement already satisfied: sympy>=1.13.3 in /home/jupyter-jeremy/.local/lib/python3.12/site-packages (from torch) (1.14.0)\n",
      "Requirement already satisfied: networkx in /home/jupyter-jeremy/.local/lib/python3.12/site-packages (from torch) (3.5)\n",
      "Requirement already satisfied: jinja2 in /opt/tljh/user/lib/python3.12/site-packages (from torch) (3.1.6)\n",
      "Requirement already satisfied: fsspec in /home/jupyter-jeremy/.local/lib/python3.12/site-packages (from torch) (2025.5.1)\n",
      "Requirement already satisfied: nvidia-cuda-nvrtc-cu12==12.6.77 in /home/jupyter-jeremy/.local/lib/python3.12/site-packages (from torch) (12.6.77)\n",
      "Requirement already satisfied: nvidia-cuda-runtime-cu12==12.6.77 in /home/jupyter-jeremy/.local/lib/python3.12/site-packages (from torch) (12.6.77)\n",
      "Requirement already satisfied: nvidia-cuda-cupti-cu12==12.6.80 in /home/jupyter-jeremy/.local/lib/python3.12/site-packages (from torch) (12.6.80)\n",
      "Requirement already satisfied: nvidia-cudnn-cu12==9.5.1.17 in /home/jupyter-jeremy/.local/lib/python3.12/site-packages (from torch) (9.5.1.17)\n",
      "Requirement already satisfied: nvidia-cublas-cu12==12.6.4.1 in /home/jupyter-jeremy/.local/lib/python3.12/site-packages (from torch) (12.6.4.1)\n",
      "Requirement already satisfied: nvidia-cufft-cu12==11.3.0.4 in /home/jupyter-jeremy/.local/lib/python3.12/site-packages (from torch) (11.3.0.4)\n",
      "Requirement already satisfied: nvidia-curand-cu12==10.3.7.77 in /home/jupyter-jeremy/.local/lib/python3.12/site-packages (from torch) (10.3.7.77)\n",
      "Requirement already satisfied: nvidia-cusolver-cu12==11.7.1.2 in /home/jupyter-jeremy/.local/lib/python3.12/site-packages (from torch) (11.7.1.2)\n",
      "Requirement already satisfied: nvidia-cusparse-cu12==12.5.4.2 in /home/jupyter-jeremy/.local/lib/python3.12/site-packages (from torch) (12.5.4.2)\n",
      "Requirement already satisfied: nvidia-cusparselt-cu12==0.6.3 in /home/jupyter-jeremy/.local/lib/python3.12/site-packages (from torch) (0.6.3)\n",
      "Requirement already satisfied: nvidia-nccl-cu12==2.26.2 in /home/jupyter-jeremy/.local/lib/python3.12/site-packages (from torch) (2.26.2)\n",
      "Requirement already satisfied: nvidia-nvtx-cu12==12.6.77 in /home/jupyter-jeremy/.local/lib/python3.12/site-packages (from torch) (12.6.77)\n",
      "Requirement already satisfied: nvidia-nvjitlink-cu12==12.6.85 in /home/jupyter-jeremy/.local/lib/python3.12/site-packages (from torch) (12.6.85)\n",
      "Requirement already satisfied: nvidia-cufile-cu12==1.11.1.6 in /home/jupyter-jeremy/.local/lib/python3.12/site-packages (from torch) (1.11.1.6)\n",
      "Requirement already satisfied: triton==3.3.0 in /home/jupyter-jeremy/.local/lib/python3.12/site-packages (from torch) (3.3.0)\n",
      "Requirement already satisfied: mpmath<1.4,>=1.1.0 in /home/jupyter-jeremy/.local/lib/python3.12/site-packages (from sympy>=1.13.3->torch) (1.3.0)\n",
      "Requirement already satisfied: MarkupSafe>=2.0 in /opt/tljh/user/lib/python3.12/site-packages (from jinja2->torch) (3.0.2)\n",
      "Defaulting to user installation because normal site-packages is not writeable\n",
      "Collecting torchvision\n",
      "  Downloading torchvision-0.22.0-cp312-cp312-manylinux_2_28_x86_64.whl.metadata (6.1 kB)\n",
      "Requirement already satisfied: numpy in /home/jupyter-jeremy/.local/lib/python3.12/site-packages (from torchvision) (2.2.6)\n",
      "Requirement already satisfied: torch==2.7.0 in /home/jupyter-jeremy/.local/lib/python3.12/site-packages (from torchvision) (2.7.0)\n",
      "Requirement already satisfied: pillow!=8.3.*,>=5.3.0 in /home/jupyter-jeremy/.local/lib/python3.12/site-packages (from torchvision) (11.2.1)\n",
      "Requirement already satisfied: filelock in /home/jupyter-jeremy/.local/lib/python3.12/site-packages (from torch==2.7.0->torchvision) (3.18.0)\n",
      "Requirement already satisfied: typing-extensions>=4.10.0 in /opt/tljh/user/lib/python3.12/site-packages (from torch==2.7.0->torchvision) (4.13.2)\n",
      "Requirement already satisfied: setuptools in /opt/tljh/user/lib/python3.12/site-packages (from torch==2.7.0->torchvision) (74.1.2)\n",
      "Requirement already satisfied: sympy>=1.13.3 in /home/jupyter-jeremy/.local/lib/python3.12/site-packages (from torch==2.7.0->torchvision) (1.14.0)\n",
      "Requirement already satisfied: networkx in /home/jupyter-jeremy/.local/lib/python3.12/site-packages (from torch==2.7.0->torchvision) (3.5)\n",
      "Requirement already satisfied: jinja2 in /opt/tljh/user/lib/python3.12/site-packages (from torch==2.7.0->torchvision) (3.1.6)\n",
      "Requirement already satisfied: fsspec in /home/jupyter-jeremy/.local/lib/python3.12/site-packages (from torch==2.7.0->torchvision) (2025.5.1)\n",
      "Requirement already satisfied: nvidia-cuda-nvrtc-cu12==12.6.77 in /home/jupyter-jeremy/.local/lib/python3.12/site-packages (from torch==2.7.0->torchvision) (12.6.77)\n",
      "Requirement already satisfied: nvidia-cuda-runtime-cu12==12.6.77 in /home/jupyter-jeremy/.local/lib/python3.12/site-packages (from torch==2.7.0->torchvision) (12.6.77)\n",
      "Requirement already satisfied: nvidia-cuda-cupti-cu12==12.6.80 in /home/jupyter-jeremy/.local/lib/python3.12/site-packages (from torch==2.7.0->torchvision) (12.6.80)\n",
      "Requirement already satisfied: nvidia-cudnn-cu12==9.5.1.17 in /home/jupyter-jeremy/.local/lib/python3.12/site-packages (from torch==2.7.0->torchvision) (9.5.1.17)\n",
      "Requirement already satisfied: nvidia-cublas-cu12==12.6.4.1 in /home/jupyter-jeremy/.local/lib/python3.12/site-packages (from torch==2.7.0->torchvision) (12.6.4.1)\n",
      "Requirement already satisfied: nvidia-cufft-cu12==11.3.0.4 in /home/jupyter-jeremy/.local/lib/python3.12/site-packages (from torch==2.7.0->torchvision) (11.3.0.4)\n",
      "Requirement already satisfied: nvidia-curand-cu12==10.3.7.77 in /home/jupyter-jeremy/.local/lib/python3.12/site-packages (from torch==2.7.0->torchvision) (10.3.7.77)\n",
      "Requirement already satisfied: nvidia-cusolver-cu12==11.7.1.2 in /home/jupyter-jeremy/.local/lib/python3.12/site-packages (from torch==2.7.0->torchvision) (11.7.1.2)\n",
      "Requirement already satisfied: nvidia-cusparse-cu12==12.5.4.2 in /home/jupyter-jeremy/.local/lib/python3.12/site-packages (from torch==2.7.0->torchvision) (12.5.4.2)\n",
      "Requirement already satisfied: nvidia-cusparselt-cu12==0.6.3 in /home/jupyter-jeremy/.local/lib/python3.12/site-packages (from torch==2.7.0->torchvision) (0.6.3)\n",
      "Requirement already satisfied: nvidia-nccl-cu12==2.26.2 in /home/jupyter-jeremy/.local/lib/python3.12/site-packages (from torch==2.7.0->torchvision) (2.26.2)\n",
      "Requirement already satisfied: nvidia-nvtx-cu12==12.6.77 in /home/jupyter-jeremy/.local/lib/python3.12/site-packages (from torch==2.7.0->torchvision) (12.6.77)\n",
      "Requirement already satisfied: nvidia-nvjitlink-cu12==12.6.85 in /home/jupyter-jeremy/.local/lib/python3.12/site-packages (from torch==2.7.0->torchvision) (12.6.85)\n",
      "Requirement already satisfied: nvidia-cufile-cu12==1.11.1.6 in /home/jupyter-jeremy/.local/lib/python3.12/site-packages (from torch==2.7.0->torchvision) (1.11.1.6)\n",
      "Requirement already satisfied: triton==3.3.0 in /home/jupyter-jeremy/.local/lib/python3.12/site-packages (from torch==2.7.0->torchvision) (3.3.0)\n",
      "Requirement already satisfied: mpmath<1.4,>=1.1.0 in /home/jupyter-jeremy/.local/lib/python3.12/site-packages (from sympy>=1.13.3->torch==2.7.0->torchvision) (1.3.0)\n",
      "Requirement already satisfied: MarkupSafe>=2.0 in /opt/tljh/user/lib/python3.12/site-packages (from jinja2->torch==2.7.0->torchvision) (3.0.2)\n",
      "Downloading torchvision-0.22.0-cp312-cp312-manylinux_2_28_x86_64.whl (7.4 MB)\n",
      "\u001b[2K   \u001b[90m━━━━━━━━━━━━━━━━━━━━━━━━━━━━━━━━━━━━━━━━\u001b[0m \u001b[32m7.4/7.4 MB\u001b[0m \u001b[31m114.1 MB/s\u001b[0m eta \u001b[36m0:00:00\u001b[0m\n",
      "\u001b[?25hInstalling collected packages: torchvision\n",
      "Successfully installed torchvision-0.22.0\n"
     ]
    }
   ],
   "source": [
    "#!pip install numpy pandas matplotlib \n",
    "#!pip install torch\n",
    "#!pip install torchvision"
   ]
  },
  {
   "cell_type": "markdown",
   "id": "7a50bd74-3df1-41e4-aaf3-5130ebffd31f",
   "metadata": {},
   "source": [
    "## GPU Detection"
   ]
  },
  {
   "cell_type": "markdown",
   "id": "b9bf9bdd-ebab-4343-867a-5714361f6c6c",
   "metadata": {},
   "source": [
    "### Checking that GPU is available in the JuPyTeR notebook"
   ]
  },
  {
   "cell_type": "markdown",
   "id": "35dead55-e76e-41c4-bbd6-1fc22fd16c0b",
   "metadata": {},
   "source": [
    "We need to ensure that the GPU is correctly configured and then we will display the GPU specs below, We will do this for NVIDIA, Intel, and AMD GPU's using `nvidia-smi` and `htop`"
   ]
  },
  {
   "cell_type": "code",
   "execution_count": 8,
   "id": "45b75e6b-0699-48ad-a031-1ecbde96e322",
   "metadata": {},
   "outputs": [
    {
     "name": "stdout",
     "output_type": "stream",
     "text": [
      "Tue Jun  3 21:27:22 2025       \n",
      "+---------------------------------------------------------------------------------------+\n",
      "| NVIDIA-SMI 535.230.02             Driver Version: 535.230.02   CUDA Version: 12.2     |\n",
      "|-----------------------------------------+----------------------+----------------------+\n",
      "| GPU  Name                 Persistence-M | Bus-Id        Disp.A | Volatile Uncorr. ECC |\n",
      "| Fan  Temp   Perf          Pwr:Usage/Cap |         Memory-Usage | GPU-Util  Compute M. |\n",
      "|                                         |                      |               MIG M. |\n",
      "|=========================================+======================+======================|\n",
      "|   0  GRID A100X-8C                  On  | 00000000:04:00.0 Off |                    0 |\n",
      "| N/A   N/A    P0              N/A /  N/A |   6029MiB /  8192MiB |     27%      Default |\n",
      "|                                         |                      |             Disabled |\n",
      "+-----------------------------------------+----------------------+----------------------+\n",
      "                                                                                         \n",
      "+---------------------------------------------------------------------------------------+\n",
      "| Processes:                                                                            |\n",
      "|  GPU   GI   CI        PID   Type   Process name                            GPU Memory |\n",
      "|        ID   ID                                                             Usage      |\n",
      "|=======================================================================================|\n",
      "|    0   N/A  N/A    491168      C   /opt/tljh/user/bin/python                   633MiB |\n",
      "|    0   N/A  N/A    500792      C   /opt/tljh/user/bin/python                  5385MiB |\n",
      "+---------------------------------------------------------------------------------------+\n",
      "\u001b[?1l\u001b>/bin/bash: line 1: kill: $: arguments must be process or job IDs CPU%▽\u001b[30m\u001b[42mMEM%   TIME+  Command      \u001b[11;1H\u001b[30m\u001b[46m 501090 jupyter-je  20   0  9016  4784  3504 R  88.9  0.0  0:00.07 htop         \u001b[12;2H\u001b[m\u001b[m500929 \u001b[30m\u001b[1mjupyter-br \u001b[m\u001b[m 20 \u001b[30m\u001b[1m  0 \u001b[m\u001b[32m17\u001b[36m.1\u001b[32mG 2\u001b[36m378M  697M \u001b[30m\u001b[1mS \u001b[m\u001b[m 44.4 15.9  0:03.28 \u001b[32m/opt/tljh/use\u001b[13;2H\u001b[m\u001b[m501024 \u001b[30m\u001b[1mjupyter-br \u001b[m\u001b[m 20 \u001b[30m\u001b[1m  0 \u001b[m\u001b[32m17\u001b[36m.1\u001b[32mG 2\u001b[36m378M  697M \u001b[32mR \u001b[m\u001b[m 44.4 15.9  0:00.94 \u001b[32m/opt/tljh/use\u001b[14;2H\u001b[m\u001b[m501026 \u001b[30m\u001b[1mjupyter-br \u001b[m\u001b[m 20 \u001b[30m\u001b[1m  0 \u001b[m\u001b[32m17\u001b[36m.1\u001b[32mG 2\u001b[36m378M  697M \u001b[30m\u001b[1mS \u001b[m\u001b[m 44.4 15.9  0:00.92 \u001b[32m/opt/tljh/use\u001b[15;7H\u001b[m\u001b[m1 \u001b[30m\u001b[1mroot       \u001b[m\u001b[m 20 \u001b[30m\u001b[1m  0 \u001b[m\u001b[36m23\u001b[m\u001b[m360 \u001b[36m14\u001b[m\u001b[m572 \u001b[36m 9\u001b[m\u001b[m452 \u001b[30m\u001b[1mS   0.0 \u001b[m\u001b[m 0.1  1:34.88 /sbin/init\u001b[16;5H373 \u001b[30m\u001b[1mroot       \u001b[m\u001b[m 19 \u001b[31m -1 \u001b[36m 169M 70\u001b[m\u001b[m416 \u001b[36m69\u001b[m\u001b[m008 \u001b[30m\u001b[1mS   0.0 \u001b[m\u001b[m 0.5  0:38.31 /usr/lib/syst\u001b[17;5H422 \u001b[30m\u001b[1mroot       \u001b[m\u001b[m RT \u001b[30m\u001b[1m  0 \u001b[m\u001b[36m 282M 27\u001b[m\u001b[m252 \u001b[36m 8\u001b[m\u001b[m692 \u001b[30m\u001b[1mS   0.0 \u001b[m\u001b[m 0.2  0:10.05 /sbin/multipa\u001b[18;5H430 \u001b[30m\u001b[1mroot       \u001b[m\u001b[m 20 \u001b[30m\u001b[1m  0 \u001b[m\u001b[36m 282M 27\u001b[m\u001b[m252 \u001b[36m 8\u001b[m\u001b[m692 \u001b[30m\u001b[1mS   0.0 \u001b[m\u001b[m 0.2  0:00.00 \u001b[32m/sbin/multipa\u001b[19;5H\u001b[m\u001b[m431 \u001b[30m\u001b[1mroot       \u001b[m\u001b[m RT \u001b[30m\u001b[1m  0 \u001b[m\u001b[36m 282M 27\u001b[m\u001b[m252 \u001b[36m 8\u001b[m\u001b[m692 \u001b[30m\u001b[1mS   0.0 \u001b[m\u001b[m 0.2  0:00.00 \u001b[32m/sbin/multipa\u001b[20;5H\u001b[m\u001b[m432 \u001b[30m\u001b[1mroot       \u001b[m\u001b[m RT \u001b[30m\u001b[1m  0 \u001b[m\u001b[36m 282M 27\u001b[m\u001b[m252 \u001b[36m 8\u001b[m\u001b[m692 \u001b[30m\u001b[1mS   0.0 \u001b[m\u001b[m 0.2  0:00.00 \u001b[32m/sbin/multipa\u001b[21;5H\u001b[m\u001b[m433 \u001b[30m\u001b[1mroot       \u001b[m\u001b[m RT \u001b[30m\u001b[1m  0 \u001b[m\u001b[36m 282M 27\u001b[m\u001b[m252 \u001b[36m 8\u001b[m\u001b[m692 \u001b[30m\u001b[1mS   0.0 \u001b[m\u001b[m 0.2  0:00.00 \u001b[32m/sbin/multipa\u001b[22;5H\u001b[m\u001b[m434 \u001b[30m\u001b[1mroot       \u001b[m\u001b[m RT \u001b[30m\u001b[1m  0 \u001b[m\u001b[36m 282M 27\u001b[m\u001b[m252 \u001b[36m 8\u001b[m\u001b[m692 \u001b[30m\u001b[1mS   0.0 \u001b[m\u001b[m 0.2  0:19.52 \u001b[32m/sbin/multipa\u001b[23;5H\u001b[m\u001b[m435 \u001b[30m\u001b[1mroot       \u001b[m\u001b[m RT \u001b[30m\u001b[1m  0 \u001b[m\u001b[36m 282M 27\u001b[m\u001b[m252 \u001b[36m 8\u001b[m\u001b[m692 \u001b[30m\u001b[1mS   0.0 \u001b[m\u001b[m 0.2  0:00.00 \u001b[32m/sbin/multipa\u001b[24;1H\u001b[m\u001b[mF1\u001b[30m\u001b[46mHelp  \u001b[m\u001b[mF2\u001b[30m\u001b[46mSetup \u001b[m\u001b[mF3\u001b[30m\u001b[46mSearch\u001b[m\u001b[mF4\u001b[30m\u001b[46mFilter\u001b[m\u001b[mF5\u001b[30m\u001b[46mTree  \u001b[m\u001b[mF6\u001b[30m\u001b[46mSortBy\u001b[m\u001b[mF7\u001b[30m\u001b[46mNice -\u001b[m\u001b[mF8\u001b[30m\u001b[46mNice +\u001b[m\u001b[mF9\u001b[30m\u001b[46mKill  \u001b[m\u001b[mF10\u001b[30m\u001b[46mQui\u001b[4ht\u001b[4l\u001b[m\u001b[m\n"
     ]
    }
   ],
   "source": [
    "!nvidia-smi\n",
    "!htop & sleep 5 ; kill $"
   ]
  },
  {
   "cell_type": "markdown",
   "id": "e9921b25-97ac-4fb3-9a1c-9d55e718bbec",
   "metadata": {},
   "source": [
    "### Ensuring the GPU is avaible to use in pytorch"
   ]
  },
  {
   "cell_type": "markdown",
   "id": "9208fd39-9131-4b07-a00c-49b2a2d537d2",
   "metadata": {},
   "source": [
    "Now that we have established that the GPU is detected and running in the Notebook we will check that pytorch is able to utilize it"
   ]
  },
  {
   "cell_type": "code",
   "execution_count": 9,
   "id": "326a13b7-c1c4-41ac-848a-44591a113bce",
   "metadata": {},
   "outputs": [
    {
     "name": "stdout",
     "output_type": "stream",
     "text": [
      "Using device: cuda\n",
      "\n",
      "GRID A100X-8C\n",
      "Memory Usage:\n",
      "Allocated: 0.0 GB\n",
      "Cached:    0.0 GB\n"
     ]
    }
   ],
   "source": [
    "# setting device on GPU if available, else CPU as a fallback\n",
    "device = torch.device('cuda' if torch.cuda.is_available() else 'cpu')\n",
    "print('Using device:', device)\n",
    "print()\n",
    "\n",
    "#Additional Info when using cuda\n",
    "if device.type == 'cuda':\n",
    "    print(torch.cuda.get_device_name(0))\n",
    "    print('Memory Usage:')\n",
    "    print('Allocated:', round(torch.cuda.memory_allocated(0)/1024**3,1), 'GB')\n",
    "    print('Cached:   ', round(torch.cuda.memory_reserved(0)/1024**3,1), 'GB')"
   ]
  },
  {
   "cell_type": "markdown",
   "id": "88a3ee4e-c080-41c4-aeeb-7bac1a707da2",
   "metadata": {},
   "source": [
    "GPU is enabled, available and we are now ready to move on"
   ]
  },
  {
   "cell_type": "code",
   "execution_count": null,
   "id": "90a5c779-9a2e-48cc-bd41-d4086f031009",
   "metadata": {},
   "outputs": [],
   "source": [
    "# Load datasets\n",
    "train_dataset = datasets.MNIST(root='./data', train=True, download=True, transform=transform)\n",
    "test_dataset = datasets.MNIST(root='./data', train=False, download=True, transform=transform)\n",
    "\n",
    "# Loaders\n",
    "train_loader = DataLoader(train_dataset, batch_size=64, shuffle=True)\n",
    "test_loader = DataLoader(test_dataset, batch_size=64, shuffle=False)"
   ]
  }
 ],
 "metadata": {
  "kernelspec": {
   "display_name": "Python 3 (ipykernel)",
   "language": "python",
   "name": "python3"
  },
  "language_info": {
   "codemirror_mode": {
    "name": "ipython",
    "version": 3
   },
   "file_extension": ".py",
   "mimetype": "text/x-python",
   "name": "python",
   "nbconvert_exporter": "python",
   "pygments_lexer": "ipython3",
   "version": "3.12.6"
  }
 },
 "nbformat": 4,
 "nbformat_minor": 5
}
